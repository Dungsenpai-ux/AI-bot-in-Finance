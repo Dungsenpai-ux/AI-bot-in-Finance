{
 "cells": [
  {
   "cell_type": "code",
   "execution_count": 5,
   "id": "75ccb713-4571-4e0f-9efe-bf7c47df077a",
   "metadata": {},
   "outputs": [
    {
     "name": "stderr",
     "output_type": "stream",
     "text": [
      "[*********************100%***********************]  1 of 1 completed"
     ]
    },
    {
     "name": "stdout",
     "output_type": "stream",
     "text": [
      "Price         Adj Close        Close         High          Low         Open  \\\n",
      "Date                                                                          \n",
      "2023-01-01  1200.964844  1200.964844  1203.475342  1192.885376  1196.713623   \n",
      "2023-01-02  1214.656616  1214.656616  1219.860596  1195.214966  1201.103271   \n",
      "2023-01-03  1214.778809  1214.778809  1219.095337  1207.491577  1214.744019   \n",
      "2023-01-04  1256.526611  1256.526611  1264.807495  1213.168823  1214.718628   \n",
      "2023-01-05  1250.438599  1250.438599  1258.571533  1245.173096  1256.484619   \n",
      "\n",
      "Price           Volume  \n",
      "Date                    \n",
      "2023-01-01  2399674550  \n",
      "2023-01-02  3765758498  \n",
      "2023-01-03  3392972131  \n",
      "2023-01-04  6404416893  \n",
      "2023-01-05  4001786456  \n"
     ]
    },
    {
     "name": "stderr",
     "output_type": "stream",
     "text": [
      "\n"
     ]
    }
   ],
   "source": [
    "import yfinance as yf\n",
    "\n",
    "# Tải dữ liệu lịch sử ETH/USD\n",
    "eth_data = yf.download('ETH-USD', start='2023-01-01')\n",
    "eth_data.columns = eth_data.columns.droplevel(1)\n",
    "# Hiển thị một phần dữ liệu\n",
    "print(eth_data.head())"
   ]
  },
  {
   "cell_type": "code",
   "execution_count": 6,
   "id": "30390a86-6ff1-498f-b587-b08799f51311",
   "metadata": {},
   "outputs": [
    {
     "name": "stdout",
     "output_type": "stream",
     "text": [
      "Price        Date    Adj Close        Close         High          Low  \\\n",
      "0      01-01-2023  1200.964844  1200.964844  1203.475342  1192.885376   \n",
      "1      02-01-2023  1214.656616  1214.656616  1219.860596  1195.214966   \n",
      "2      03-01-2023  1214.778809  1214.778809  1219.095337  1207.491577   \n",
      "3      04-01-2023  1256.526611  1256.526611  1264.807495  1213.168823   \n",
      "4      05-01-2023  1250.438599  1250.438599  1258.571533  1245.173096   \n",
      "\n",
      "Price         Open      Volume  \n",
      "0      1196.713623  2399674550  \n",
      "1      1201.103271  3765758498  \n",
      "2      1214.744019  3392972131  \n",
      "3      1214.718628  6404416893  \n",
      "4      1256.484619  4001786456  \n"
     ]
    }
   ],
   "source": [
    "import pandas as pd\n",
    "\n",
    "# Chuyển cột index về cột riêng nếu cần\n",
    "eth_data.reset_index(inplace=True)\n",
    "\n",
    "# Định dạng lại cột Date\n",
    "eth_data['Date'] = eth_data['Date'].dt.strftime('%d-%m-%Y')\n",
    "\n",
    "# Hiển thị dữ liệu sau khi định dạng\n",
    "print(eth_data.head())\n"
   ]
  },
  {
   "cell_type": "code",
   "execution_count": 7,
   "id": "550ae121-dd3b-43bc-843f-a9d7db5b7ff5",
   "metadata": {},
   "outputs": [],
   "source": [
    "eth_data.to_csv('ETH_historic.csv', index=False)"
   ]
  }
 ],
 "metadata": {
  "kernelspec": {
   "display_name": "Python 3 (ipykernel)",
   "language": "python",
   "name": "python3"
  },
  "language_info": {
   "codemirror_mode": {
    "name": "ipython",
    "version": 3
   },
   "file_extension": ".py",
   "mimetype": "text/x-python",
   "name": "python",
   "nbconvert_exporter": "python",
   "pygments_lexer": "ipython3",
   "version": "3.10.15"
  }
 },
 "nbformat": 4,
 "nbformat_minor": 5
}
