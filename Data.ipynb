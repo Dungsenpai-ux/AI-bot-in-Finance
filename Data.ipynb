{
 "cells": [
  {
   "cell_type": "code",
   "execution_count": 26,
   "id": "e4c47f16-dad3-4f7e-9035-df53561824f7",
   "metadata": {},
   "outputs": [],
   "source": [
    "import requests\n",
    "import pandas as pd\n",
    "import numpy as np\n",
    "import matplotlib"
   ]
  },
  {
   "cell_type": "code",
   "execution_count": 27,
   "id": "a0e527df-683e-4371-93cb-22341c08bdc0",
   "metadata": {},
   "outputs": [],
   "source": [
    "r = requests.get('https://api.alternative.me/fng/?limit=0')"
   ]
  },
  {
   "cell_type": "code",
   "execution_count": 28,
   "id": "e36c06d1-cbfd-4685-ad92-112457a6bd70",
   "metadata": {},
   "outputs": [],
   "source": [
    "df = pd.DataFrame(r.json()['data'])"
   ]
  },
  {
   "cell_type": "code",
   "execution_count": 29,
   "id": "e751053b-46e2-447b-aa0e-3157d50ed5da",
   "metadata": {},
   "outputs": [],
   "source": [
    "df.value = df.value.astype(int)"
   ]
  },
  {
   "cell_type": "code",
   "execution_count": 30,
   "id": "b22c08aa-0f62-4f51-b465-7749c3214156",
   "metadata": {},
   "outputs": [
    {
     "name": "stderr",
     "output_type": "stream",
     "text": [
      "C:\\Users\\Dung\\AppData\\Local\\Temp\\ipykernel_36\\4061745750.py:1: FutureWarning: The behavior of 'to_datetime' with 'unit' when parsing strings is deprecated. In a future version, strings will be parsed as datetime strings, matching the behavior without a 'unit'. To retain the old behavior, explicitly cast ints or floats to numeric type before calling to_datetime.\n",
      "  df.timestamp = pd.to_datetime(df.timestamp, unit='s')\n"
     ]
    }
   ],
   "source": [
    "df.timestamp = pd.to_datetime(df.timestamp, unit='s')"
   ]
  },
  {
   "cell_type": "code",
   "execution_count": 31,
   "id": "af9fb250-c394-4584-9a2c-a509102698ba",
   "metadata": {},
   "outputs": [],
   "source": [
    "df = df.drop(columns=['time_until_update'])\n",
    "# Đổi tên các cột\n",
    "df = df.rename(columns={\n",
    "    'timestamp': 'date',\n",
    "    'value': 'fng_value',\n",
    "    'value_classification': 'fng_classification'})\n",
    "df['date'] = df['date'].dt.strftime('%d/%m/%Y')\n",
    "df = df[['date', 'fng_value', 'fng_classification']]"
   ]
  },
  {
   "cell_type": "code",
   "execution_count": 32,
   "id": "ae121e53-8a11-4881-a453-f66f0a5401b5",
   "metadata": {},
   "outputs": [],
   "source": [
    "df.to_csv('data.csv', index=False)"
   ]
  }
 ],
 "metadata": {
  "kernelspec": {
   "display_name": "Python 3 (ipykernel)",
   "language": "python",
   "name": "python3"
  },
  "language_info": {
   "codemirror_mode": {
    "name": "ipython",
    "version": 3
   },
   "file_extension": ".py",
   "mimetype": "text/x-python",
   "name": "python",
   "nbconvert_exporter": "python",
   "pygments_lexer": "ipython3",
   "version": "3.10.15"
  }
 },
 "nbformat": 4,
 "nbformat_minor": 5
}
